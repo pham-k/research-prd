{
 "cells": [
  {
   "cell_type": "code",
   "execution_count": 1,
   "id": "4f6609d4",
   "metadata": {},
   "outputs": [],
   "source": [
    "import pandas as pd\n",
    "from pathlib import Path"
   ]
  },
  {
   "cell_type": "code",
   "execution_count": 2,
   "id": "7706d804",
   "metadata": {},
   "outputs": [],
   "source": [
    "ext = Path('/home/kyo/Documents/project/prd/data/external')\n",
    "inter = Path('/home/kyo/Documents/project/prd/data/intermediate')\n",
    "dtype = {\n",
    "    'V1': 'string',\n",
    "    'MaHS': 'string',\n",
    "    'HoTen': 'string',\n",
    "    'NgaySinh': 'string',\n",
    "    'GioiTinh': 'UInt16',\n",
    "    'NSTinh': 'string',\n",
    "    'NSQuan': 'string',\n",
    "    'NOTinh': 'string',\n",
    "    'NOQuan': 'string',\n",
    "}\n",
    "df = pd.read_csv(\n",
    "    ext / 'prd_v2.0.0_HanhChinh.csv',\n",
    "    dtype=dtype,\n",
    "    usecols=[*dtype])"
   ]
  },
  {
   "cell_type": "code",
   "execution_count": 3,
   "id": "143d187a",
   "metadata": {},
   "outputs": [
    {
     "data": {
      "text/html": [
       "<div>\n",
       "<style scoped>\n",
       "    .dataframe tbody tr th:only-of-type {\n",
       "        vertical-align: middle;\n",
       "    }\n",
       "\n",
       "    .dataframe tbody tr th {\n",
       "        vertical-align: top;\n",
       "    }\n",
       "\n",
       "    .dataframe thead th {\n",
       "        text-align: right;\n",
       "    }\n",
       "</style>\n",
       "<table border=\"1\" class=\"dataframe\">\n",
       "  <thead>\n",
       "    <tr style=\"text-align: right;\">\n",
       "      <th></th>\n",
       "      <th>V1</th>\n",
       "    </tr>\n",
       "  </thead>\n",
       "  <tbody>\n",
       "    <tr>\n",
       "      <th>0</th>\n",
       "      <td>219001</td>\n",
       "    </tr>\n",
       "    <tr>\n",
       "      <th>1</th>\n",
       "      <td>219002</td>\n",
       "    </tr>\n",
       "    <tr>\n",
       "      <th>2</th>\n",
       "      <td>219003</td>\n",
       "    </tr>\n",
       "    <tr>\n",
       "      <th>3</th>\n",
       "      <td>219004</td>\n",
       "    </tr>\n",
       "    <tr>\n",
       "      <th>4</th>\n",
       "      <td>219005</td>\n",
       "    </tr>\n",
       "    <tr>\n",
       "      <th>...</th>\n",
       "      <td>...</td>\n",
       "    </tr>\n",
       "    <tr>\n",
       "      <th>333</th>\n",
       "      <td>519085</td>\n",
       "    </tr>\n",
       "    <tr>\n",
       "      <th>334</th>\n",
       "      <td>519086</td>\n",
       "    </tr>\n",
       "    <tr>\n",
       "      <th>335</th>\n",
       "      <td>519087</td>\n",
       "    </tr>\n",
       "    <tr>\n",
       "      <th>336</th>\n",
       "      <td>519088</td>\n",
       "    </tr>\n",
       "    <tr>\n",
       "      <th>337</th>\n",
       "      <td>519089</td>\n",
       "    </tr>\n",
       "  </tbody>\n",
       "</table>\n",
       "<p>338 rows × 1 columns</p>\n",
       "</div>"
      ],
      "text/plain": [
       "         V1\n",
       "0    219001\n",
       "1    219002\n",
       "2    219003\n",
       "3    219004\n",
       "4    219005\n",
       "..      ...\n",
       "333  519085\n",
       "334  519086\n",
       "335  519087\n",
       "336  519088\n",
       "337  519089\n",
       "\n",
       "[338 rows x 1 columns]"
      ]
     },
     "execution_count": 3,
     "metadata": {},
     "output_type": "execute_result"
    }
   ],
   "source": [
    "df"
   ]
  },
  {
   "cell_type": "code",
   "execution_count": 4,
   "id": "cba56df7",
   "metadata": {},
   "outputs": [],
   "source": [
    "df['HP'] = df.Cay | (df.PCR & df.GPB) | (df.GPB & df.Clo)\n",
    "# df['foo'] = df.HP & df.NhiemHP\n",
    "# df[((df.HP == True) & (df.NhiemHP == False))]\n",
    "df.set_index('V1')\n",
    "# df[(df.V1 < 500000) & (df.V1 > 300000)].HP.value_counts()\n",
    "df.to_excel(inter / 'entry.xlsx')"
   ]
  }
 ],
 "metadata": {
  "kernelspec": {
   "display_name": "Python 3",
   "language": "python",
   "name": "python3"
  },
  "language_info": {
   "codemirror_mode": {
    "name": "ipython",
    "version": 3
   },
   "file_extension": ".py",
   "mimetype": "text/x-python",
   "name": "python",
   "nbconvert_exporter": "python",
   "pygments_lexer": "ipython3",
   "version": "3.8.2"
  }
 },
 "nbformat": 4,
 "nbformat_minor": 5
}
