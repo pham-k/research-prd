{
 "cells": [
  {
   "cell_type": "code",
   "execution_count": 2,
   "id": "93603a68",
   "metadata": {},
   "outputs": [],
   "source": [
    "import pandas as pd\n",
    "from pathlib import Path"
   ]
  },
  {
   "cell_type": "code",
   "execution_count": 3,
   "id": "2e38d865",
   "metadata": {},
   "outputs": [],
   "source": [
    "ext = Path('/home/kyo/Documents/project/prd/data/external')\n",
    "inter = Path('/home/kyo/Documents/project/prd/data/intermediate')\n",
    "s = 'RuaTayTruocAn\tRuaTaySauVS\tDiChanDat\tDungChungKhan\tDungChungBC\tCanMongTay\tDanhRang'\n",
    "k = s.split('\t')\n",
    "v = ['Int64']*64\n",
    "dtype = {k:v for (k, v) in zip(s.split('\t'), v)}\n",
    "dtype['V1'] = 'string'\n",
    "\n",
    "df = pd.read_csv(\n",
    "    ext / 'prd_v2.0.0_Form2.csv',\n",
    "    usecols = [*dtype],\n",
    "    dtype = dtype,\n",
    "    index_col = 'V1'\n",
    ")"
   ]
  },
  {
   "cell_type": "code",
   "execution_count": 6,
   "id": "691cb1d0",
   "metadata": {},
   "outputs": [
    {
     "data": {
      "text/html": [
       "<div>\n",
       "<style scoped>\n",
       "    .dataframe tbody tr th:only-of-type {\n",
       "        vertical-align: middle;\n",
       "    }\n",
       "\n",
       "    .dataframe tbody tr th {\n",
       "        vertical-align: top;\n",
       "    }\n",
       "\n",
       "    .dataframe thead th {\n",
       "        text-align: right;\n",
       "    }\n",
       "</style>\n",
       "<table border=\"1\" class=\"dataframe\">\n",
       "  <thead>\n",
       "    <tr style=\"text-align: right;\">\n",
       "      <th></th>\n",
       "      <th>RuaTayTruocAn</th>\n",
       "      <th>RuaTaySauVS</th>\n",
       "      <th>DiChanDat</th>\n",
       "      <th>DungChungKhan</th>\n",
       "      <th>DungChungBC</th>\n",
       "      <th>CanMongTay</th>\n",
       "      <th>DanhRang</th>\n",
       "    </tr>\n",
       "    <tr>\n",
       "      <th>V1</th>\n",
       "      <th></th>\n",
       "      <th></th>\n",
       "      <th></th>\n",
       "      <th></th>\n",
       "      <th></th>\n",
       "      <th></th>\n",
       "      <th></th>\n",
       "    </tr>\n",
       "  </thead>\n",
       "  <tbody>\n",
       "  </tbody>\n",
       "</table>\n",
       "</div>"
      ],
      "text/plain": [
       "Empty DataFrame\n",
       "Columns: [RuaTayTruocAn, RuaTaySauVS, DiChanDat, DungChungKhan, DungChungBC, CanMongTay, DanhRang]\n",
       "Index: []"
      ]
     },
     "execution_count": 6,
     "metadata": {},
     "output_type": "execute_result"
    }
   ],
   "source": [
    "df[df.isna().any(axis=1)]"
   ]
  },
  {
   "cell_type": "code",
   "execution_count": 4,
   "id": "6029d479",
   "metadata": {},
   "outputs": [],
   "source": [
    "df.to_excel(inter / 'form2d.xlsx')"
   ]
  }
 ],
 "metadata": {
  "kernelspec": {
   "display_name": "Python 3",
   "language": "python",
   "name": "python3"
  },
  "language_info": {
   "codemirror_mode": {
    "name": "ipython",
    "version": 3
   },
   "file_extension": ".py",
   "mimetype": "text/x-python",
   "name": "python",
   "nbconvert_exporter": "python",
   "pygments_lexer": "ipython3",
   "version": "3.8.2"
  }
 },
 "nbformat": 4,
 "nbformat_minor": 5
}
